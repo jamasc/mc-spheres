{
 "cells": [
  {
   "cell_type": "code",
   "execution_count": null,
   "id": "8dbb1a0f",
   "metadata": {},
   "outputs": [],
   "source": [
    "'''\n",
    "MINECRAFT SPHERES AND CYLINDERS\n",
    "\n",
    "example usage:\n",
    "\n",
    "makeFile('load.mcfunction', ball(10,0,80,0,'stone'), cylinder(5,10,0,80,20,'dirt','yz'))\n",
    "\n",
    "'''"
   ]
  },
  {
   "cell_type": "code",
   "execution_count": 2,
   "id": "6e47e4a4",
   "metadata": {},
   "outputs": [],
   "source": [
    "def makeFile(file_path = 'load.mcfunction', *args):\n",
    "    '''function to write mcfunction file from various amount of input commands'''\n",
    "    with open(file_path, 'w') as file:\n",
    "        for command_set in args:\n",
    "            for command in command_set:\n",
    "                file.write(command + \"\\n\")"
   ]
  },
  {
   "cell_type": "code",
   "execution_count": 1,
   "id": "7ce02076",
   "metadata": {},
   "outputs": [],
   "source": [
    "import math\n",
    "def cylinder(radius,hl,x,y,z,block,direction):\n",
    "    '''function to create a cylinder \n",
    "        radius: actual diameter = 2 * radius + 1\n",
    "        hl(half length): actual height of cylinder = 2 * hl + 1\n",
    "        x,y,z: coordinates of center block\n",
    "        block: minecraft block (without 'minecraft:')\n",
    "        direction: rotation axis\n",
    "    '''\n",
    "    commands = []\n",
    "    for i in range(radius+1):\n",
    "        for j in range(radius+1):\n",
    "            if(i**2 + j**2 < radius**2):\n",
    "                if('x' in direction):\n",
    "                    commands.append(f\"fill {x-hl} {y-i} {z-j} {x+hl} {y-i} {z-j} minecraft:{block}\")\n",
    "                    commands.append(f\"fill {x-hl} {y-i} {z+j} {x+hl} {y-i} {z+j} minecraft:{block}\")\n",
    "                    commands.append(f\"fill {x-hl} {y+i} {z-j} {x+hl} {y+i} {z-j} minecraft:{block}\")\n",
    "                    commands.append(f\"fill {x-hl} {y+i} {z+j} {x+hl} {y+i} {z+j} minecraft:{block}\")\n",
    "                if('y' in direction):\n",
    "                    commands.append(f\"fill {x-i} {y-hl} {z-j} {x-i} {y+hl} {z-j} minecraft:{block}\")\n",
    "                    commands.append(f\"fill {x-i} {y-hl} {z+j} {x-i} {y+hl} {z+j} minecraft:{block}\")\n",
    "                    commands.append(f\"fill {x+i} {y-hl} {z-j} {x+i} {y+hl} {z-j} minecraft:{block}\")\n",
    "                    commands.append(f\"fill {x+i} {y-hl} {z+j} {x+i} {y+hl} {z+j} minecraft:{block}\")\n",
    "                if('z' in direction):\n",
    "                    commands.append(f\"fill {x-i} {y-j} {z-hl} {x-i} {y-j} {z+hl} minecraft:{block}\")\n",
    "                    commands.append(f\"fill {x-i} {y+j} {z-hl} {x-i} {y+j} {z+hl} minecraft:{block}\")\n",
    "                    commands.append(f\"fill {x+i} {y-j} {z-hl} {x+i} {y-j} {z+hl} minecraft:{block}\")\n",
    "                    commands.append(f\"fill {x+i} {y+j} {z-hl} {x+i} {y+j} {z+hl} minecraft:{block}\")\n",
    "    return commands\n"
   ]
  },
  {
   "cell_type": "code",
   "execution_count": 3,
   "id": "79be8993",
   "metadata": {},
   "outputs": [],
   "source": [
    "import math\n",
    "def ball(radius,x,y,z,block):\n",
    "    '''function to create a sphere \n",
    "        radius: actual diameter = 2 * radius + 1\n",
    "        x,y,z: coordinates of center block\n",
    "        block: minecraft block (without 'minecraft:')\n",
    "    '''\n",
    "    commands = []\n",
    "    usedcords = []\n",
    "    for d in range(1, round(radius/1.5)+1):\n",
    "        hl = radius - d\n",
    "        cylrad = round(math.sqrt(radius**2 - hl**2))        \n",
    "        for i in range(cylrad+1):\n",
    "            for j in range(cylrad+1):\n",
    "                if(i**2 + j**2 < cylrad**2 and [i,j] not in usedcords):\n",
    "                    usedcords.append([i,j])\n",
    "                    commands.append(f\"fill {x-hl} {y-i} {z-j} {x+hl} {y-i} {z-j} minecraft:{block}\")\n",
    "                    commands.append(f\"fill {x-hl} {y-i} {z+j} {x+hl} {y-i} {z+j} minecraft:{block}\")\n",
    "                    commands.append(f\"fill {x-hl} {y+i} {z-j} {x+hl} {y+i} {z-j} minecraft:{block}\")\n",
    "                    commands.append(f\"fill {x-hl} {y+i} {z+j} {x+hl} {y+i} {z+j} minecraft:{block}\")\n",
    "                    commands.append(f\"fill {x-i} {y-hl} {z-j} {x-i} {y+hl} {z-j} minecraft:{block}\")\n",
    "                    commands.append(f\"fill {x-i} {y-hl} {z+j} {x-i} {y+hl} {z+j} minecraft:{block}\")\n",
    "                    commands.append(f\"fill {x+i} {y-hl} {z-j} {x+i} {y+hl} {z-j} minecraft:{block}\")\n",
    "                    commands.append(f\"fill {x+i} {y-hl} {z+j} {x+i} {y+hl} {z+j} minecraft:{block}\")\n",
    "                    commands.append(f\"fill {x-i} {y-j} {z-hl} {x-i} {y-j} {z+hl} minecraft:{block}\")\n",
    "                    commands.append(f\"fill {x-i} {y+j} {z-hl} {x-i} {y+j} {z+hl} minecraft:{block}\")\n",
    "                    commands.append(f\"fill {x+i} {y-j} {z-hl} {x+i} {y-j} {z+hl} minecraft:{block}\")\n",
    "                    commands.append(f\"fill {x+i} {y+j} {z-hl} {x+i} {y+j} {z+hl} minecraft:{block}\")\n",
    "    return commands"
   ]
  }
 ],
 "metadata": {
  "kernelspec": {
   "display_name": "Python 3 (ipykernel)",
   "language": "python",
   "name": "python3"
  },
  "language_info": {
   "codemirror_mode": {
    "name": "ipython",
    "version": 3
   },
   "file_extension": ".py",
   "mimetype": "text/x-python",
   "name": "python",
   "nbconvert_exporter": "python",
   "pygments_lexer": "ipython3",
   "version": "3.11.5"
  }
 },
 "nbformat": 4,
 "nbformat_minor": 5
}
